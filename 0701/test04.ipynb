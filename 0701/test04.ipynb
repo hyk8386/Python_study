{
 "cells": [
  {
   "cell_type": "code",
   "execution_count": 2,
   "id": "da83a424",
   "metadata": {},
   "outputs": [
    {
     "name": "stdout",
     "output_type": "stream",
     "text": [
      "상품의 가격: 10000\n",
      "배송비=  3000\n"
     ]
    }
   ],
   "source": [
    "# 배송비 계산 프로그램 - s/w문\n",
    "\n",
    "price = int(input(\"상품의 가격: \"))\n",
    "\n",
    "# 배송비를 결정한다.\n",
    "\n",
    "if price > 20000 :\n",
    "    shopping_cost = 0\n",
    "else :\n",
    "    shopping_cost = 3000\n",
    "    \n",
    "# 배송비를 출력\n",
    "\n",
    "print(\"배송비= \", shopping_cost)"
   ]
  },
  {
   "cell_type": "code",
   "execution_count": 3,
   "id": "ececa04c",
   "metadata": {},
   "outputs": [
    {
     "name": "stdout",
     "output_type": "stream",
     "text": [
      "False\n"
     ]
    }
   ],
   "source": [
    "# 관계연산자\n",
    "s1 = \"안녕하세요\"\n",
    "s2 = \"Hello\"\n",
    "print(s1 < s2)"
   ]
  },
  {
   "cell_type": "code",
   "execution_count": 1,
   "id": "e3014f68",
   "metadata": {},
   "outputs": [
    {
     "name": "stdout",
     "output_type": "stream",
     "text": [
      "sqrt(3.0) * sqrt(3.0)은 3.0과 같다.\n"
     ]
    }
   ],
   "source": [
    "# 실수와 실수 비교\n",
    "from math import sqrt\n",
    "\n",
    "n = sqrt(3.0)\n",
    "if abs(n*n - 3.0) < 0.00001 :\n",
    "    print(\"sqrt(3.0) * sqrt(3.0)은 3.0과 같다.\")\n",
    "else :\n",
    "    print(\"sqrt(3.0) * sqrt(3.0)은 3.0과 같지 않다.\")"
   ]
  },
  {
   "cell_type": "code",
   "execution_count": 6,
   "id": "40d6137a",
   "metadata": {},
   "outputs": [
    {
     "name": "stdout",
     "output_type": "stream",
     "text": [
      "79 + 50=129\n",
      "True\n"
     ]
    }
   ],
   "source": [
    "# 산술 문제 출제 프로그램\n",
    "# f문자열은 {}로 감싸서 문자열 안에 넣을 수 있음\n",
    "\n",
    "import random\n",
    "\n",
    "x = random.randint(1, 100)\n",
    "y = random.randint(1, 100)\n",
    "\n",
    "answer = int(input(f\"{x} + {y}=\"))\n",
    "\n",
    "# Boolean 변수에 결과를 저장하고 출력\n",
    "flag = (answer == (x+y))\n",
    "print(flag)"
   ]
  },
  {
   "cell_type": "code",
   "execution_count": 9,
   "id": "930d8eb2",
   "metadata": {},
   "outputs": [
    {
     "name": "stdout",
     "output_type": "stream",
     "text": [
      "첫번째 값:-6\n",
      "두번째 값:9\n",
      "절대값 6\n",
      "최대값 9\n",
      "최소값 -6\n"
     ]
    }
   ],
   "source": [
    "# 조건연산자 - 삼항연산자\n",
    "\n",
    "x = eval(input(\"첫번째 값:\"))\n",
    "y = eval(input(\"두번째 값:\"))\n",
    "\n",
    "absolute_value = (x if x > 0 else -x) #절대값\n",
    "max_value = (x if x > y else y) #최대값\n",
    "min_value = (x if x < y else y) #최소값\n",
    "\n",
    "print(\"절대값\", absolute_value)\n",
    "print(\"최대값\", max_value)\n",
    "print(\"최소값\", min_value)\n"
   ]
  },
  {
   "cell_type": "code",
   "execution_count": 10,
   "id": "a282f7f2",
   "metadata": {},
   "outputs": [
    {
     "ename": "SyntaxError",
     "evalue": "invalid syntax (1910627118.py, line 6)",
     "output_type": "error",
     "traceback": [
      "\u001b[1;36m  Input \u001b[1;32mIn [10]\u001b[1;36m\u001b[0m\n\u001b[1;33m    elif temp > and temp < 100 :\u001b[0m\n\u001b[1;37m                ^\u001b[0m\n\u001b[1;31mSyntaxError\u001b[0m\u001b[1;31m:\u001b[0m invalid syntax\n"
     ]
    }
   ],
   "source": [
    "# 온도에 따른 물의 상태\n",
    "temp = float(input(\"온도를 입력하세요\"))\n",
    "\n",
    "if temp <= 0 :\n",
    "    print(\"물의 상태는 얼음입니다.\")\n",
    "elif temp > and temp < 100 :\n",
    "    print(\"물의 상태는 액체입니다.\")\n",
    "else :\n",
    "    print(\"물의 상태는 기체입니다.\")"
   ]
  }
 ],
 "metadata": {
  "kernelspec": {
   "display_name": "Python 3 (ipykernel)",
   "language": "python",
   "name": "python3"
  },
  "language_info": {
   "codemirror_mode": {
    "name": "ipython",
    "version": 3
   },
   "file_extension": ".py",
   "mimetype": "text/x-python",
   "name": "python",
   "nbconvert_exporter": "python",
   "pygments_lexer": "ipython3",
   "version": "3.9.12"
  }
 },
 "nbformat": 4,
 "nbformat_minor": 5
}
