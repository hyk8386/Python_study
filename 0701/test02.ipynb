{
 "cells": [
  {
   "cell_type": "markdown",
   "id": "955c48a9",
   "metadata": {},
   "source": [
    "## 입력과 출력"
   ]
  },
  {
   "cell_type": "code",
   "execution_count": 1,
   "id": "3156cd2a",
   "metadata": {},
   "outputs": [
    {
     "name": "stdout",
     "output_type": "stream",
     "text": [
      "이름을 입력하세요: 김혜영\n",
      "김혜영 씨, 안녕하세요?\n",
      "파이썬에 오신 것을 환영합니다.\n"
     ]
    }
   ],
   "source": [
    "name = input(\"이름을 입력하세요: \")\n",
    "print(name, \"씨, 안녕하세요?\")\n",
    "print(\"파이썬에 오신 것을 환영합니다.\")"
   ]
  },
  {
   "cell_type": "code",
   "execution_count": 2,
   "id": "e8e4dc51",
   "metadata": {
    "scrolled": true
   },
   "outputs": [
    {
     "name": "stdout",
     "output_type": "stream",
     "text": [
      "첫 번째 정수를 입력하세요: 100\n",
      "두 번째 정수를 입력하세요: 200\n",
      "합은  100200\n"
     ]
    }
   ],
   "source": [
    "x = input(\"첫 번째 정수를 입력하세요: \")\n",
    "y = input(\"두 번째 정수를 입력하세요: \")\n",
    "sum = x + y\n",
    "print(\"합은 \", sum)"
   ]
  },
  {
   "cell_type": "code",
   "execution_count": 3,
   "id": "e60ec707",
   "metadata": {},
   "outputs": [
    {
     "name": "stdout",
     "output_type": "stream",
     "text": [
      "첫 번째 정수를 입력하세요: 100\n",
      "두 번째 정수를 입력하세요: 200\n",
      "합은  300\n"
     ]
    }
   ],
   "source": [
    "s1 = input(\"첫 번째 정수를 입력하세요: \")\n",
    "x = int(s1)\n",
    "s2 = input(\"두 번째 정수를 입력하세요: \")\n",
    "y = int(s2)\n",
    "sum = x + y\n",
    "print(\"합은 \", sum)"
   ]
  },
  {
   "cell_type": "code",
   "execution_count": 8,
   "id": "59934954",
   "metadata": {
    "scrolled": true
   },
   "outputs": [
    {
     "name": "stdout",
     "output_type": "stream",
     "text": [
      "면적(제곱미터) : 33\n",
      "10.0 평\n"
     ]
    }
   ],
   "source": [
    "# 부동 소수점 사용\n",
    "# 평수를 구하는 방법\n",
    "# eval은 데이터에 따라 실수 또는 정수로 변환\n",
    "SQMETER_PER_P = 3.3\n",
    "\n",
    "area = float(input(\"면적(제곱미터) : \"))\n",
    "py = area / SQMETER_PER_P\n",
    "print(py, \"평\")"
   ]
  },
  {
   "cell_type": "code",
   "execution_count": 5,
   "id": "fac7f8ff",
   "metadata": {},
   "outputs": [
    {
     "name": "stdout",
     "output_type": "stream",
     "text": [
      "면적(제곱미터) : 25.6\n",
      "7.76 평\n"
     ]
    }
   ],
   "source": [
    "# 형식화된 출력\n",
    "SQMETER_PER_P = 3.3\n",
    "\n",
    "area = eval(input(\"면적(제곱미터) : \"))\n",
    "py = area / SQMETER_PER_P\n",
    "print(\"%.2f\" %py, \"평\")"
   ]
  },
  {
   "cell_type": "code",
   "execution_count": 9,
   "id": "9b30798f",
   "metadata": {},
   "outputs": [
    {
     "name": "stdout",
     "output_type": "stream",
     "text": [
      "안녕하세요\n",
      "이름이 어떻게 되시나요?김혜영\n",
      "만나서 반갑습니다.김혜영씨\n",
      "이름의 길이는 다음과 같군요: 3\n",
      "나이가 어떻게 되나요?30\n",
      "내년이면31이 되시는군요.\n"
     ]
    }
   ],
   "source": [
    "# 대화형 프로그램\n",
    "print(\"안녕하세요\")\n",
    "name = input(\"이름이 어떻게 되시나요?\")\n",
    "print(\"만나서 반갑습니다.\" + name + \"씨\")\n",
    "print(\"이름의 길이는 다음과 같군요:\", len(name))\n",
    "\n",
    "age = int(input(\"나이가 어떻게 되나요?\"))\n",
    "print(\"내년이면\" + str(age+1) + \"이 되시는군요.\")"
   ]
  },
  {
   "cell_type": "code",
   "execution_count": 11,
   "id": "5b59c27d",
   "metadata": {},
   "outputs": [
    {
     "name": "stdout",
     "output_type": "stream",
     "text": [
      "몸무게 kg 단위를 입력하세요 : 33\n",
      "키를 cm 단위를 입력하세요: 111\n",
      "당신의 BMI= 0.002678354029705381\n"
     ]
    }
   ],
   "source": [
    "# BMI 계산하기\n",
    "# BMI < 18.50  저체중\n",
    "# BMI 18.50 - 24.99 표준\n",
    "# BMI 24.99 - 29.99 과체중\n",
    "# BMI > 비만\n",
    "\n",
    "weight = float(input(\"몸무게 kg 단위를 입력하세요 : \"))\n",
    "height = float(input(\"키를 cm 단위를 입력하세요: \"))\n",
    "\n",
    "bmi = (weight / (height**2))\n",
    "print(\"당신의 BMI=\", bmi)"
   ]
  },
  {
   "cell_type": "code",
   "execution_count": null,
   "id": "e8648061",
   "metadata": {},
   "outputs": [],
   "source": [
    "# 구의 부피 계산\n",
    "\n",
    "r = float(input(\"반지름을 입력하세요: \"))\n",
    "\n",
    "# 구의 부피 공식\n",
    "volume = (4.0/3.0) * 3.141592 * r**3\n",
    "\n",
    "# 구의 부피를 화면에 출력\n",
    "print(\"구의 부피=%10.2f\" % volume)"
   ]
  }
 ],
 "metadata": {
  "kernelspec": {
   "display_name": "Python 3 (ipykernel)",
   "language": "python",
   "name": "python3"
  },
  "language_info": {
   "codemirror_mode": {
    "name": "ipython",
    "version": 3
   },
   "file_extension": ".py",
   "mimetype": "text/x-python",
   "name": "python",
   "nbconvert_exporter": "python",
   "pygments_lexer": "ipython3",
   "version": "3.9.12"
  }
 },
 "nbformat": 4,
 "nbformat_minor": 5
}
