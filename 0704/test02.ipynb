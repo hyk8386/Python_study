{
 "cells": [
  {
   "cell_type": "code",
   "execution_count": 1,
   "id": "da83a424",
   "metadata": {},
   "outputs": [
    {
     "name": "stdout",
     "output_type": "stream",
     "text": [
      "원하는 단은 : 4\n",
      "4 * 2 = 8\n",
      "4 * 3 = 12\n",
      "4 * 4 = 16\n",
      "4 * 5 = 20\n",
      "4 * 6 = 24\n",
      "4 * 7 = 28\n",
      "4 * 8 = 32\n",
      "4 * 9 = 36\n"
     ]
    }
   ],
   "source": [
    "# while 문을 사용한 구구셈\n",
    "\n",
    "dan = int(input(\"원하는 단은 : \"))\n",
    "i = 2\n",
    "\n",
    "while i <= 9 :\n",
    "    print(\"%d * %d = %d\" %(dan, i, dan*i))\n",
    "    i = i + 1"
   ]
  },
  {
   "cell_type": "code",
   "execution_count": 2,
   "id": "56980b11",
   "metadata": {},
   "outputs": [
    {
     "name": "stdout",
     "output_type": "stream",
     "text": [
      "1부터 100 사이의 숫자를 맞추세요\n",
      "숫자를 입력하세요: 20\n",
      "너무 낮음!\n",
      "숫자를 입력하세요: 50\n",
      "너무 낮음!\n",
      "숫자를 입력하세요: 70\n",
      "너무 낮음!\n",
      "숫자를 입력하세요: 72\n",
      "너무 낮음!\n",
      "숫자를 입력하세요: 78\n",
      "너무 낮음!\n",
      "숫자를 입력하세요: 90\n",
      "너무 높음!\n",
      "숫자를 입력하세요: 82\n",
      "너무 낮음!\n",
      "숫자를 입력하세요: 88\n",
      "너무 높음!\n",
      "숫자를 입력하세요: 85\n",
      "축하합니다. 시도횟수 =  9\n"
     ]
    }
   ],
   "source": [
    "# 숫자 맞추기 게임\n",
    "\n",
    "import random\n",
    "\n",
    "tries = 0\n",
    "guess = 0\n",
    "answer = random.randint(1, 100)\n",
    "\n",
    "print(\"1부터 100 사이의 숫자를 맞추세요\")\n",
    "\n",
    "while guess != answer :\n",
    "    guess = int(input(\"숫자를 입력하세요: \"))\n",
    "    tries = tries + 1\n",
    "    \n",
    "    if guess < answer : \n",
    "        print(\"너무 낮음!\")\n",
    "    elif guess > answer :\n",
    "        print(\"너무 높음!\")\n",
    "        \n",
    "if guess == answer :\n",
    "    print(\"축하합니다. 시도횟수 = \", tries)\n",
    "else :\n",
    "    print(\"정답은\", answer)"
   ]
  }
 ],
 "metadata": {
  "kernelspec": {
   "display_name": "Python 3 (ipykernel)",
   "language": "python",
   "name": "python3"
  },
  "language_info": {
   "codemirror_mode": {
    "name": "ipython",
    "version": 3
   },
   "file_extension": ".py",
   "mimetype": "text/x-python",
   "name": "python",
   "nbconvert_exporter": "python",
   "pygments_lexer": "ipython3",
   "version": "3.9.12"
  }
 },
 "nbformat": 4,
 "nbformat_minor": 5
}
