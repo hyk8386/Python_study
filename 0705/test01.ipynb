{
 "cells": [
  {
   "cell_type": "code",
   "execution_count": 1,
   "id": "da83a424",
   "metadata": {},
   "outputs": [
    {
     "name": "stdout",
     "output_type": "stream",
     "text": [
      "30 + 16=1\n",
      "틀렸어요. 하지만 다음번에는 잘 할 수 있죠?\n"
     ]
    }
   ],
   "source": [
    "# 산수문제\n",
    "\n",
    "import random\n",
    "\n",
    "flag = True\n",
    "while flag :\n",
    "    x = random.randint(1, 100)\n",
    "    y = random.randint(1, 100)\n",
    "    answer = int(input(f\"{x} + {y}=\"))\n",
    "    if answer == x+y :\n",
    "        print(\"잘 했어요\")\n",
    "    else :\n",
    "        print(\"틀렸어요. 하지만 다음번에는 잘 할 수 있죠?\")\n",
    "        flag = False"
   ]
  },
  {
   "cell_type": "code",
   "execution_count": 2,
   "id": "9f4c4773",
   "metadata": {},
   "outputs": [
    {
     "name": "stdout",
     "output_type": "stream",
     "text": [
      "*\n",
      "**\n",
      "***\n",
      "****\n",
      "*****\n"
     ]
    }
   ],
   "source": [
    "# 중첩 반복문\n",
    "\n",
    "for y in range(1,6) :\n",
    "    for x in range(y) :\n",
    "        print(\"*\", end=\"\")\n",
    "    print(\"\")"
   ]
  },
  {
   "cell_type": "code",
   "execution_count": 3,
   "id": "7c051f39",
   "metadata": {},
   "outputs": [
    {
     "name": "stdout",
     "output_type": "stream",
     "text": [
      "첫 번째 주사위=1 두 번째 주사위=5\n",
      "첫 번째 주사위=2 두 번째 주사위=4\n",
      "첫 번째 주사위=3 두 번째 주사위=3\n",
      "첫 번째 주사위=4 두 번째 주사위=2\n",
      "첫 번째 주사위=5 두 번째 주사위=1\n"
     ]
    }
   ],
   "source": [
    "# 주사위 2개의 합이 6인 경우를 전부 출력\n",
    "\n",
    "for a in range(1, 7) :\n",
    "    for b in range(1, 7) : \n",
    "        if a+b == 6 :\n",
    "            print(f\"첫 번째 주사위={a} 두 번째 주사위={b}\")"
   ]
  },
  {
   "cell_type": "code",
   "execution_count": null,
   "id": "5f0240af",
   "metadata": {},
   "outputs": [],
   "source": [
    "# 무한루틴과 break\n",
    "\n",
    "while True :\n",
    "    light = input(\"신호등 색상을 입력: \")\n",
    "    if light == 'green' :\n",
    "        break\n",
    "        \n",
    "print('전진!!')"
   ]
  },
  {
   "cell_type": "code",
   "execution_count": null,
   "id": "477d0177",
   "metadata": {},
   "outputs": [],
   "source": [
    "# 1~10 사이에서 3의 배수가 아니면 출력\n",
    "\n",
    "for i in range(1, 11) :\n",
    "    if i % 3 == 0 :\n",
    "        continue\n",
    "    print(i, end=\" \")"
   ]
  },
  {
   "cell_type": "code",
   "execution_count": 11,
   "id": "c00c6763",
   "metadata": {},
   "outputs": [
    {
     "name": "stdout",
     "output_type": "stream",
     "text": [
      "2 3 5 7 11 13 17 19 23 29 31 37 41 43 47 53 59 61 67 71 73 79 83 89 97 "
     ]
    }
   ],
   "source": [
    "# 1~100 사이의 소수 찾기\n",
    "\n",
    "N_PRIMES = 25\n",
    "number = 2\n",
    "count = 0\n",
    "\n",
    "while count < N_PRIMES :\n",
    "    divisor = 2\n",
    "    prime = True\n",
    "    \n",
    "    while divisor < number :\n",
    "        if number % divisor == 0 :\n",
    "            prime = False\n",
    "            break;\n",
    "        divisor += 1\n",
    "    if prime :\n",
    "        count += 1\n",
    "        print(number, end=\" \")\n",
    "        \n",
    "    number += 1"
   ]
  },
  {
   "cell_type": "code",
   "execution_count": 14,
   "id": "ccfec4cd",
   "metadata": {},
   "outputs": [
    {
     "name": "stdout",
     "output_type": "stream",
     "text": [
      "반복횟수: 100000\n",
      "Pi = 3.141583\n"
     ]
    }
   ],
   "source": [
    "# 파이 값을 계산하는 프로그램\n",
    "\n",
    "divisor = 1.0\n",
    "divident = 4.0\n",
    "sum = 0.0\n",
    "loop_count = int(input(\"반복횟수: \"))\n",
    "while(loop_count > 0) :\n",
    "    sum = sum + divident / divisor\n",
    "    divident = -1.0 * divident     \n",
    "    divisor = divisor + 2\n",
    "    loop_count = loop_count - 1\n",
    "print(\"Pi = %f\" % sum)"
   ]
  }
 ],
 "metadata": {
  "kernelspec": {
   "display_name": "Python 3 (ipykernel)",
   "language": "python",
   "name": "python3"
  },
  "language_info": {
   "codemirror_mode": {
    "name": "ipython",
    "version": 3
   },
   "file_extension": ".py",
   "mimetype": "text/x-python",
   "name": "python",
   "nbconvert_exporter": "python",
   "pygments_lexer": "ipython3",
   "version": "3.9.12"
  }
 },
 "nbformat": 4,
 "nbformat_minor": 5
}
